{
 "cells": [
  {
   "cell_type": "code",
   "execution_count": 1,
   "metadata": {},
   "outputs": [],
   "source": [
    "import pandas as pd\n",
    "from src.cleaning_tools import convert_category_cols_to_str, drop_cols_containing_str, eliminate_null\n",
    "from src.read_write_tools import read_files_in_folder, read_files_in_multiple_folders, read_files_with_multiple_tables, write_files_dpa_convention, read_xlsx_files_in_folder"
   ]
  },
  {
   "cell_type": "markdown",
   "metadata": {},
   "source": [
    "# Survey on Gender Equality At Home"
   ]
  },
  {
   "cell_type": "markdown",
   "metadata": {},
   "source": [
    "## Read data"
   ]
  },
  {
   "cell_type": "code",
   "execution_count": 6,
   "metadata": {},
   "outputs": [],
   "source": [
    "read_inputs = {\n",
    "    \"sog_agg_country.xlsx\": \n",
    "     {\n",
    "      \"Readme\":{},\n",
    "      \"Codebook\":{},\n",
    "      \"Data\":{}\n",
    "      }, \n",
    "    'sog_agg_region.xlsx':\n",
    "    { \"Readme\":{},\n",
    "      \"Codebook\":{},\n",
    "      \"Data\":{}}\n",
    "    }"
   ]
  },
  {
   "cell_type": "code",
   "execution_count": 8,
   "metadata": {},
   "outputs": [
    {
     "name": "stdout",
     "output_type": "stream",
     "text": [
      "Reading csv file(s) from data/raw/Survey_on_Gender_Equality_At_Home/\n",
      "Total of 4 file(s)\n",
      "Total of 2 xlsx file(s)\n",
      "\n",
      "Reading ...\n",
      "sog_agg_country.xlsx\n",
      "  The specified inputs for sog_agg_country.xlsx Readme were usecols: None skiprows: None\n",
      "  The specified inputs for sog_agg_country.xlsx Codebook were usecols: None skiprows: None\n",
      "  The specified inputs for sog_agg_country.xlsx Data were usecols: None skiprows: None\n",
      "sog_agg_region.xlsx\n",
      "  The specified inputs for sog_agg_region.xlsx Readme were usecols: None skiprows: None\n",
      "  The specified inputs for sog_agg_region.xlsx Codebook were usecols: None skiprows: None\n",
      "  The specified inputs for sog_agg_region.xlsx Data were usecols: None skiprows: None\n"
     ]
    }
   ],
   "source": [
    "input_path = 'data/raw/Survey_on_Gender_Equality_At_Home/'\n",
    "dfs_with_names = read_xlsx_files_in_folder(input_path,read_inputs)"
   ]
  },
  {
   "cell_type": "code",
   "execution_count": 10,
   "metadata": {},
   "outputs": [
    {
     "data": {
      "text/plain": [
       "dict_keys(['SHEET_Readme_FILE_sog_agg_country.xlsx', 'SHEET_Codebook_FILE_sog_agg_country.xlsx', 'SHEET_Data_FILE_sog_agg_country.xlsx', 'SHEET_Readme_FILE_sog_agg_region.xlsx', 'SHEET_Codebook_FILE_sog_agg_region.xlsx', 'SHEET_Data_FILE_sog_agg_region.xlsx'])"
      ]
     },
     "execution_count": 10,
     "metadata": {},
     "output_type": "execute_result"
    }
   ],
   "source": [
    "dfs_with_names.keys()"
   ]
  },
  {
   "cell_type": "markdown",
   "metadata": {},
   "source": [
    "## Explore"
   ]
  },
  {
   "cell_type": "code",
   "execution_count": 19,
   "metadata": {},
   "outputs": [
    {
     "data": {
      "text/html": [
       "<div>\n",
       "<style scoped>\n",
       "    .dataframe tbody tr th:only-of-type {\n",
       "        vertical-align: middle;\n",
       "    }\n",
       "\n",
       "    .dataframe tbody tr th {\n",
       "        vertical-align: top;\n",
       "    }\n",
       "\n",
       "    .dataframe thead th {\n",
       "        text-align: right;\n",
       "    }\n",
       "</style>\n",
       "<table border=\"1\" class=\"dataframe\">\n",
       "  <thead>\n",
       "    <tr style=\"text-align: right;\">\n",
       "      <th></th>\n",
       "      <th>Variable</th>\n",
       "      <th>Variable Label</th>\n",
       "      <th>Response Category</th>\n",
       "      <th>Notes</th>\n",
       "    </tr>\n",
       "  </thead>\n",
       "  <tbody>\n",
       "    <tr>\n",
       "      <th>0</th>\n",
       "      <td>Year</td>\n",
       "      <td>Year survey fielded</td>\n",
       "      <td>NaN</td>\n",
       "      <td>NaN</td>\n",
       "    </tr>\n",
       "    <tr>\n",
       "      <th>1</th>\n",
       "      <td>Region</td>\n",
       "      <td>Region</td>\n",
       "      <td>NaN</td>\n",
       "      <td>NaN</td>\n",
       "    </tr>\n",
       "    <tr>\n",
       "      <th>2</th>\n",
       "      <td>Country</td>\n",
       "      <td>Country Name</td>\n",
       "      <td>NaN</td>\n",
       "      <td>Countries without a sufficiently large represe...</td>\n",
       "    </tr>\n",
       "    <tr>\n",
       "      <th>3</th>\n",
       "      <td>Internet_Penetration</td>\n",
       "      <td>Percent online</td>\n",
       "      <td>NaN</td>\n",
       "      <td>Sourced from public, non-Facebook data sources...</td>\n",
       "    </tr>\n",
       "    <tr>\n",
       "      <th>4</th>\n",
       "      <td>Gender</td>\n",
       "      <td>Gender</td>\n",
       "      <td>NaN</td>\n",
       "      <td>Non-binary genders have been removed due to lo...</td>\n",
       "    </tr>\n",
       "    <tr>\n",
       "      <th>...</th>\n",
       "      <td>...</td>\n",
       "      <td>...</td>\n",
       "      <td>...</td>\n",
       "      <td>...</td>\n",
       "    </tr>\n",
       "    <tr>\n",
       "      <th>87</th>\n",
       "      <td>d7_loan</td>\n",
       "      <td>D.7. What are your main concerns during the co...</td>\n",
       "      <td>Repaying outstanding loans</td>\n",
       "      <td>NaN</td>\n",
       "    </tr>\n",
       "    <tr>\n",
       "      <th>88</th>\n",
       "      <td>d7_money</td>\n",
       "      <td>D.7. What are your main concerns during the co...</td>\n",
       "      <td>Having enough money to sustain my family</td>\n",
       "      <td>NaN</td>\n",
       "    </tr>\n",
       "    <tr>\n",
       "      <th>89</th>\n",
       "      <td>d7_none</td>\n",
       "      <td>D.7. What are your main concerns during the co...</td>\n",
       "      <td>I do not have any concerns at this time</td>\n",
       "      <td>NaN</td>\n",
       "    </tr>\n",
       "    <tr>\n",
       "      <th>90</th>\n",
       "      <td>d7_stuck</td>\n",
       "      <td>D.7. What are your main concerns during the co...</td>\n",
       "      <td>Being stuck at home for a long time</td>\n",
       "      <td>NaN</td>\n",
       "    </tr>\n",
       "    <tr>\n",
       "      <th>91</th>\n",
       "      <td>d7_work</td>\n",
       "      <td>D.7. What are your main concerns during the co...</td>\n",
       "      <td>The future of my work</td>\n",
       "      <td>NaN</td>\n",
       "    </tr>\n",
       "  </tbody>\n",
       "</table>\n",
       "<p>92 rows × 4 columns</p>\n",
       "</div>"
      ],
      "text/plain": [
       "                Variable                                     Variable Label  \\\n",
       "0                   Year                                Year survey fielded   \n",
       "1                 Region                                             Region   \n",
       "2                Country                                       Country Name   \n",
       "3   Internet_Penetration                                     Percent online   \n",
       "4                 Gender                                             Gender   \n",
       "..                   ...                                                ...   \n",
       "87               d7_loan  D.7. What are your main concerns during the co...   \n",
       "88              d7_money  D.7. What are your main concerns during the co...   \n",
       "89               d7_none  D.7. What are your main concerns during the co...   \n",
       "90              d7_stuck  D.7. What are your main concerns during the co...   \n",
       "91               d7_work  D.7. What are your main concerns during the co...   \n",
       "\n",
       "                            Response Category  \\\n",
       "0                                         NaN   \n",
       "1                                         NaN   \n",
       "2                                         NaN   \n",
       "3                                         NaN   \n",
       "4                                         NaN   \n",
       "..                                        ...   \n",
       "87                 Repaying outstanding loans   \n",
       "88   Having enough money to sustain my family   \n",
       "89  I do not have any concerns at this time     \n",
       "90     Being stuck at home for a long time      \n",
       "91                      The future of my work   \n",
       "\n",
       "                                                Notes  \n",
       "0                                                 NaN  \n",
       "1                                                 NaN  \n",
       "2   Countries without a sufficiently large represe...  \n",
       "3   Sourced from public, non-Facebook data sources...  \n",
       "4   Non-binary genders have been removed due to lo...  \n",
       "..                                                ...  \n",
       "87                                                NaN  \n",
       "88                                                NaN  \n",
       "89                                                NaN  \n",
       "90                                                NaN  \n",
       "91                                                NaN  \n",
       "\n",
       "[92 rows x 4 columns]"
      ]
     },
     "execution_count": 19,
     "metadata": {},
     "output_type": "execute_result"
    }
   ],
   "source": [
    "dfs_with_names['SHEET_Codebook_FILE_sog_agg_country.xlsx']"
   ]
  },
  {
   "cell_type": "code",
   "execution_count": 17,
   "metadata": {},
   "outputs": [],
   "source": [
    "for key in dfs_with_names.keys():\n",
    "    dfs_with_names[key] = eliminate_null(dfs_with_names[key])"
   ]
  },
  {
   "cell_type": "markdown",
   "metadata": {},
   "source": [
    "## Write "
   ]
  },
  {
   "cell_type": "code",
   "execution_count": 22,
   "metadata": {},
   "outputs": [
    {
     "name": "stdout",
     "output_type": "stream",
     "text": [
      "Directory data/prepared/Survey_on_Gender_Equality_At_Home/ created \n",
      "Writing  Survey_on_Gender_Equality_At_Home_0_cleaned\n",
      "Writing  Survey_on_Gender_Equality_At_Home_1_cleaned\n",
      "Writing  Survey_on_Gender_Equality_At_Home_2_cleaned\n",
      "Writing  Survey_on_Gender_Equality_At_Home_3_cleaned\n",
      "Writing  Survey_on_Gender_Equality_At_Home_4_cleaned\n",
      "Writing  Survey_on_Gender_Equality_At_Home_5_cleaned\n",
      "Writing data_names_dictionary.json\n"
     ]
    }
   ],
   "source": [
    "data_code = \"Survey_on_Gender_Equality_At_Home\"\n",
    "write_files_dpa_convention(dfs_with_names, data_code, file_type=\"csv\")"
   ]
  },
  {
   "cell_type": "markdown",
   "metadata": {},
   "source": [
    "# Survey on future bussines"
   ]
  },
  {
   "cell_type": "code",
   "execution_count": null,
   "metadata": {},
   "outputs": [],
   "source": []
  }
 ],
 "metadata": {
  "kernelspec": {
   "display_name": "Python 3",
   "language": "python",
   "name": "python3"
  },
  "language_info": {
   "codemirror_mode": {
    "name": "ipython",
    "version": 3
   },
   "file_extension": ".py",
   "mimetype": "text/x-python",
   "name": "python",
   "nbconvert_exporter": "python",
   "pygments_lexer": "ipython3",
   "version": "3.8.5"
  }
 },
 "nbformat": 4,
 "nbformat_minor": 4
}
