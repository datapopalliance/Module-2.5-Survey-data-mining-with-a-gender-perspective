{
 "cells": [
  {
   "cell_type": "markdown",
   "metadata": {},
   "source": [
    "# <div align=\"center\"> 2.5 Survey data mining with a gender perspective \n",
    "<img src=\"Logo-gender-data.png\" width=\"300\" height=\"300\">"
   ]
  },
  {
   "cell_type": "markdown",
   "metadata": {},
   "source": [
    "## Import necesary modules "
   ]
  },
  {
   "cell_type": "code",
   "execution_count": 2,
   "metadata": {},
   "outputs": [],
   "source": [
    "import pandas as pd\n",
    "import seaborn as sns\n",
    "import matplotlib.pyplot as plt\n",
    "import matplotlib.patches as mpatches\n",
    "import numpy as np"
   ]
  },
  {
   "cell_type": "markdown",
   "metadata": {},
   "source": [
    "## Reading data"
   ]
  },
  {
   "cell_type": "markdown",
   "metadata": {},
   "source": [
    "The following lines read the data using the variable \"path\" to enter the exact directory where the databases are saved followed by the name. Please replace the directory and the name of the survey with the correspondent one in your computer."
   ]
  },
  {
   "cell_type": "code",
   "execution_count": 3,
   "metadata": {
    "scrolled": false
   },
   "outputs": [],
   "source": [
    "path = 'data/prepared/Survey_on_Gender_Equality_At_Home/Survey_on_Gender_Equality_At_Home_2_cleaned.csv'\n",
    "df_gender = pd.read_csv(path)"
   ]
  },
  {
   "cell_type": "markdown",
   "metadata": {},
   "source": [
    "## Explore and clean"
   ]
  },
  {
   "cell_type": "code",
   "execution_count": 4,
   "metadata": {},
   "outputs": [
    {
     "data": {
      "text/html": [
       "<div>\n",
       "<style scoped>\n",
       "    .dataframe tbody tr th:only-of-type {\n",
       "        vertical-align: middle;\n",
       "    }\n",
       "\n",
       "    .dataframe tbody tr th {\n",
       "        vertical-align: top;\n",
       "    }\n",
       "\n",
       "    .dataframe thead th {\n",
       "        text-align: right;\n",
       "    }\n",
       "</style>\n",
       "<table border=\"1\" class=\"dataframe\">\n",
       "  <thead>\n",
       "    <tr style=\"text-align: right;\">\n",
       "      <th></th>\n",
       "      <th>Year</th>\n",
       "      <th>Region</th>\n",
       "      <th>Country</th>\n",
       "      <th>Internet_Penetration</th>\n",
       "      <th>Gender</th>\n",
       "      <th>a1_agree</th>\n",
       "      <th>a1_neutral</th>\n",
       "      <th>a1_disagree</th>\n",
       "      <th>a2_opps_other</th>\n",
       "      <th>a3_yes</th>\n",
       "      <th>...</th>\n",
       "      <th>d6_wait</th>\n",
       "      <th>d7_bored</th>\n",
       "      <th>d7_food</th>\n",
       "      <th>d7_health</th>\n",
       "      <th>d7_info</th>\n",
       "      <th>d7_loan</th>\n",
       "      <th>d7_money</th>\n",
       "      <th>d7_none</th>\n",
       "      <th>d7_stuck</th>\n",
       "      <th>d7_work</th>\n",
       "    </tr>\n",
       "  </thead>\n",
       "  <tbody>\n",
       "    <tr>\n",
       "      <th>0</th>\n",
       "      <td>2020</td>\n",
       "      <td>North America</td>\n",
       "      <td>Canada</td>\n",
       "      <td>95 to 100%</td>\n",
       "      <td>Female</td>\n",
       "      <td>93</td>\n",
       "      <td>1</td>\n",
       "      <td>5</td>\n",
       "      <td>7.40</td>\n",
       "      <td>54</td>\n",
       "      <td>...</td>\n",
       "      <td>33</td>\n",
       "      <td>30</td>\n",
       "      <td>30</td>\n",
       "      <td>33</td>\n",
       "      <td>33</td>\n",
       "      <td>19</td>\n",
       "      <td>35</td>\n",
       "      <td>7</td>\n",
       "      <td>37</td>\n",
       "      <td>32</td>\n",
       "    </tr>\n",
       "    <tr>\n",
       "      <th>1</th>\n",
       "      <td>2020</td>\n",
       "      <td>North America</td>\n",
       "      <td>Canada</td>\n",
       "      <td>95 to 100%</td>\n",
       "      <td>Male</td>\n",
       "      <td>92</td>\n",
       "      <td>2</td>\n",
       "      <td>5</td>\n",
       "      <td>7.62</td>\n",
       "      <td>59</td>\n",
       "      <td>...</td>\n",
       "      <td>31</td>\n",
       "      <td>31</td>\n",
       "      <td>28</td>\n",
       "      <td>26</td>\n",
       "      <td>29</td>\n",
       "      <td>19</td>\n",
       "      <td>33</td>\n",
       "      <td>6</td>\n",
       "      <td>35</td>\n",
       "      <td>36</td>\n",
       "    </tr>\n",
       "    <tr>\n",
       "      <th>2</th>\n",
       "      <td>2020</td>\n",
       "      <td>North America</td>\n",
       "      <td>Canada</td>\n",
       "      <td>95 to 100%</td>\n",
       "      <td>Combined</td>\n",
       "      <td>93</td>\n",
       "      <td>2</td>\n",
       "      <td>5</td>\n",
       "      <td>7.55</td>\n",
       "      <td>56</td>\n",
       "      <td>...</td>\n",
       "      <td>32</td>\n",
       "      <td>31</td>\n",
       "      <td>29</td>\n",
       "      <td>30</td>\n",
       "      <td>31</td>\n",
       "      <td>19</td>\n",
       "      <td>34</td>\n",
       "      <td>6</td>\n",
       "      <td>36</td>\n",
       "      <td>34</td>\n",
       "    </tr>\n",
       "    <tr>\n",
       "      <th>3</th>\n",
       "      <td>2020</td>\n",
       "      <td>North America</td>\n",
       "      <td>United States of America</td>\n",
       "      <td>70 to 75%</td>\n",
       "      <td>Female</td>\n",
       "      <td>90</td>\n",
       "      <td>3</td>\n",
       "      <td>7</td>\n",
       "      <td>7.42</td>\n",
       "      <td>50</td>\n",
       "      <td>...</td>\n",
       "      <td>36</td>\n",
       "      <td>32</td>\n",
       "      <td>34</td>\n",
       "      <td>28</td>\n",
       "      <td>42</td>\n",
       "      <td>17</td>\n",
       "      <td>39</td>\n",
       "      <td>7</td>\n",
       "      <td>37</td>\n",
       "      <td>33</td>\n",
       "    </tr>\n",
       "    <tr>\n",
       "      <th>4</th>\n",
       "      <td>2020</td>\n",
       "      <td>North America</td>\n",
       "      <td>United States of America</td>\n",
       "      <td>70 to 75%</td>\n",
       "      <td>Male</td>\n",
       "      <td>89</td>\n",
       "      <td>4</td>\n",
       "      <td>8</td>\n",
       "      <td>7.88</td>\n",
       "      <td>64</td>\n",
       "      <td>...</td>\n",
       "      <td>28</td>\n",
       "      <td>27</td>\n",
       "      <td>28</td>\n",
       "      <td>25</td>\n",
       "      <td>40</td>\n",
       "      <td>17</td>\n",
       "      <td>33</td>\n",
       "      <td>8</td>\n",
       "      <td>32</td>\n",
       "      <td>35</td>\n",
       "    </tr>\n",
       "  </tbody>\n",
       "</table>\n",
       "<p>5 rows × 92 columns</p>\n",
       "</div>"
      ],
      "text/plain": [
       "   Year         Region                   Country Internet_Penetration  \\\n",
       "0  2020  North America                    Canada           95 to 100%   \n",
       "1  2020  North America                    Canada           95 to 100%   \n",
       "2  2020  North America                    Canada           95 to 100%   \n",
       "3  2020  North America  United States of America            70 to 75%   \n",
       "4  2020  North America  United States of America            70 to 75%   \n",
       "\n",
       "     Gender  a1_agree  a1_neutral  a1_disagree  a2_opps_other  a3_yes  ...  \\\n",
       "0    Female        93           1            5           7.40      54  ...   \n",
       "1      Male        92           2            5           7.62      59  ...   \n",
       "2  Combined        93           2            5           7.55      56  ...   \n",
       "3    Female        90           3            7           7.42      50  ...   \n",
       "4      Male        89           4            8           7.88      64  ...   \n",
       "\n",
       "   d6_wait  d7_bored  d7_food  d7_health  d7_info  d7_loan  d7_money  d7_none  \\\n",
       "0       33        30       30         33       33       19        35        7   \n",
       "1       31        31       28         26       29       19        33        6   \n",
       "2       32        31       29         30       31       19        34        6   \n",
       "3       36        32       34         28       42       17        39        7   \n",
       "4       28        27       28         25       40       17        33        8   \n",
       "\n",
       "   d7_stuck  d7_work  \n",
       "0        37       32  \n",
       "1        35       36  \n",
       "2        36       34  \n",
       "3        37       33  \n",
       "4        32       35  \n",
       "\n",
       "[5 rows x 92 columns]"
      ]
     },
     "execution_count": 4,
     "metadata": {},
     "output_type": "execute_result"
    }
   ],
   "source": [
    "df = df_gender.copy()\n",
    "df.head()"
   ]
  },
  {
   "cell_type": "markdown",
   "metadata": {},
   "source": [
    "The columns are labeled with names that are not clear, we can rename them and filter the database to keep only the variables that are now of interest.   "
   ]
  },
  {
   "cell_type": "code",
   "execution_count": 5,
   "metadata": {},
   "outputs": [],
   "source": [
    "df = df[['Country','Gender','Internet_Penetration','a1_agree','b7_full']]\n",
    "df.rename(columns={'a1_agree':'Equal_Rights','b7_full':'Access_Money'},inplace=True)"
   ]
  },
  {
   "cell_type": "markdown",
   "metadata": {},
   "source": [
    "Let's see the values of Internet_Penetration"
   ]
  },
  {
   "cell_type": "code",
   "execution_count": 6,
   "metadata": {},
   "outputs": [
    {
     "name": "stdout",
     "output_type": "stream",
     "text": [
      "['95 to 100%' '70 to 75%' '75 to 80%' '40 to 45%' '45 to 50%' '35 to 40%'\n",
      " '80 to 85%' '85 to 90%' '15 to 20%' '65 to 70%' '5% or less' '60 to 65%'\n",
      " '.' '10 to 15%' '5 to 10%' '50 to 55%' '55 to 60%' '25 to 30%'\n",
      " '20 to 25%' '90 to 95%' '30 to 35%' '50 to 65%']\n"
     ]
    }
   ],
   "source": [
    "print(df['Internet_Penetration'].unique())"
   ]
  },
  {
   "cell_type": "markdown",
   "metadata": {},
   "source": [
    "It seems that we need some work here. We will remove the dot (which corresponds to regions not countries) and take the first value and change the type of data to numeric."
   ]
  },
  {
   "cell_type": "code",
   "execution_count": 7,
   "metadata": {},
   "outputs": [],
   "source": [
    "df = df[df['Internet_Penetration']!='.']\n",
    "df['Internet_Penetration'] = [float(df.loc[i,'Internet_Penetration'][:2]) \n",
    "                              if df.loc[i,'Internet_Penetration'][1].isalnum() \n",
    "                              else float(df.loc[i,'Internet_Penetration'][:1]) for i in df.index]"
   ]
  },
  {
   "cell_type": "markdown",
   "metadata": {},
   "source": [
    "Let's see the values of Equal_Rights"
   ]
  },
  {
   "cell_type": "code",
   "execution_count": 8,
   "metadata": {},
   "outputs": [
    {
     "name": "stdout",
     "output_type": "stream",
     "text": [
      "[93 92 90 89 91 94 84 76 80 82 79 86 87 95 81 78 83 88 97 96 49 65 69 71\n",
      " 75 61 73 68 74 85 67 77 64 19 72 70 66]\n"
     ]
    }
   ],
   "source": [
    "print(df['Equal_Rights'].unique())"
   ]
  },
  {
   "cell_type": "markdown",
   "metadata": {},
   "source": [
    "There is an outlier (19), we can see to which country it correspond to before removing. "
   ]
  },
  {
   "cell_type": "code",
   "execution_count": 9,
   "metadata": {},
   "outputs": [
    {
     "data": {
      "text/plain": [
       "299    Benin\n",
       "Name: Country, dtype: object"
      ]
     },
     "execution_count": 9,
     "metadata": {},
     "output_type": "execute_result"
    }
   ],
   "source": [
    "df[df['Equal_Rights']==19]['Country']"
   ]
  },
  {
   "cell_type": "code",
   "execution_count": 10,
   "metadata": {},
   "outputs": [],
   "source": [
    "df = df[df['Equal_Rights']!=19] #Remove outlier"
   ]
  },
  {
   "cell_type": "markdown",
   "metadata": {},
   "source": [
    "## Analysis"
   ]
  },
  {
   "cell_type": "markdown",
   "metadata": {},
   "source": [
    "Now, we will plot three relations. The first between Internet penetration and Equal rights perception, the second between Internet penetration and self access of money, and finally on Equal rights perception and Self access to money. We will see a scatter plot and a a linear regression to see the tendencies of the relation between these variables.  "
   ]
  },
  {
   "cell_type": "code",
   "execution_count": 11,
   "metadata": {},
   "outputs": [
    {
     "data": {
      "image/png": "[encoded data removed]",
      "text/plain": [
       "<Figure size 720x1080 with 3 Axes>"
      ]
     },
     "metadata": {
      "needs_background": "light"
     },
     "output_type": "display_data"
    }
   ],
   "source": [
    "figure, axes = plt.subplots(3,1,figsize=(10,15))\n",
    "sns.regplot(x=df['Internet_Penetration'],y=df['Equal_Rights'],ax=axes[0]).set(\n",
    "    title='Internet penetration vs Equal rights perception',xlabel='',ylabel='')\n",
    "df_female = df[df['Gender']=='Female']\n",
    "sns.regplot(x=df_female['Internet_Penetration'],y=df_female['Access_Money'],ax=axes[1]).set(\n",
    "    title='Internet penetration vs self access of money',xlabel='',ylabel='')\n",
    "sns.regplot(x=df_female['Equal_Rights'],y=df_female['Access_Money'],ax=axes[2]).set(\n",
    "    title='Equal rights perception vs Self access of money',xlabel='',ylabel='')\n",
    "plt.show()"
   ]
  },
  {
   "cell_type": "markdown",
   "metadata": {},
   "source": [
    "It looks like there is a positive relation between the three variables. We can test this statistically with a correlation proof, which gives a mesure of the relation of the variables.   "
   ]
  },
  {
   "cell_type": "code",
   "execution_count": 12,
   "metadata": {},
   "outputs": [
    {
     "data": {
      "image/png": "[encoded data removed]",
      "text/plain": [
       "<Figure size 504x432 with 2 Axes>"
      ]
     },
     "metadata": {
      "needs_background": "light"
     },
     "output_type": "display_data"
    }
   ],
   "source": [
    "fig = plt.figure(figsize=(7,6)) \n",
    "sns.heatmap(df_female.corr(),annot=True).set_title('Correlation')\n",
    "plt.show()"
   ]
  },
  {
   "cell_type": "code",
   "execution_count": 13,
   "metadata": {},
   "outputs": [],
   "source": [
    "df_gender = df"
   ]
  },
  {
   "cell_type": "markdown",
   "metadata": {},
   "source": [
    "## Survey on Future of business "
   ]
  },
  {
   "cell_type": "markdown",
   "metadata": {},
   "source": [
    "The following lines read the data using the variable \"path\" to enter the exact directory where the databases are saved followed by the name. Please replace the directory and the name of the survey with the correspondent in your computer."
   ]
  },
  {
   "cell_type": "code",
   "execution_count": 14,
   "metadata": {},
   "outputs": [],
   "source": [
    "path = 'data/prepared/Survey_on_future_business/Survey_on_future_business_good_clean.csv'\n",
    "df_business = pd.read_csv(path)\n",
    "df = df_business.copy()"
   ]
  },
  {
   "cell_type": "code",
   "execution_count": 15,
   "metadata": {},
   "outputs": [
    {
     "data": {
      "text/html": [
       "<div>\n",
       "<style scoped>\n",
       "    .dataframe tbody tr th:only-of-type {\n",
       "        vertical-align: middle;\n",
       "    }\n",
       "\n",
       "    .dataframe tbody tr th {\n",
       "        vertical-align: top;\n",
       "    }\n",
       "\n",
       "    .dataframe thead th {\n",
       "        text-align: right;\n",
       "    }\n",
       "</style>\n",
       "<table border=\"1\" class=\"dataframe\">\n",
       "  <thead>\n",
       "    <tr style=\"text-align: right;\">\n",
       "      <th></th>\n",
       "      <th>value</th>\n",
       "      <th>statistic</th>\n",
       "      <th>variable</th>\n",
       "      <th>country</th>\n",
       "      <th>total_asked</th>\n",
       "      <th>who_was_asked</th>\n",
       "    </tr>\n",
       "  </thead>\n",
       "  <tbody>\n",
       "    <tr>\n",
       "      <th>0</th>\n",
       "      <td>I'm not sure</td>\n",
       "      <td>17</td>\n",
       "      <td>bus_cdt_text</td>\n",
       "      <td>AE</td>\n",
       "      <td>187</td>\n",
       "      <td>Owners/Managers of SMB Businesses</td>\n",
       "    </tr>\n",
       "    <tr>\n",
       "      <th>1</th>\n",
       "      <td>No</td>\n",
       "      <td>142</td>\n",
       "      <td>bus_cdt_text</td>\n",
       "      <td>AE</td>\n",
       "      <td>187</td>\n",
       "      <td>Owners/Managers of SMB Businesses</td>\n",
       "    </tr>\n",
       "    <tr>\n",
       "      <th>2</th>\n",
       "      <td>Yes</td>\n",
       "      <td>24</td>\n",
       "      <td>bus_cdt_text</td>\n",
       "      <td>AE</td>\n",
       "      <td>187</td>\n",
       "      <td>Owners/Managers of SMB Businesses</td>\n",
       "    </tr>\n",
       "    <tr>\n",
       "      <th>3</th>\n",
       "      <td>NaN</td>\n",
       "      <td>4</td>\n",
       "      <td>bus_cdt_text</td>\n",
       "      <td>AE</td>\n",
       "      <td>187</td>\n",
       "      <td>Owners/Managers of SMB Businesses</td>\n",
       "    </tr>\n",
       "    <tr>\n",
       "      <th>4</th>\n",
       "      <td>I'm not sure</td>\n",
       "      <td>5</td>\n",
       "      <td>bus_cdt_text</td>\n",
       "      <td>AL</td>\n",
       "      <td>75</td>\n",
       "      <td>Owners/Managers of SMB Businesses</td>\n",
       "    </tr>\n",
       "  </tbody>\n",
       "</table>\n",
       "</div>"
      ],
      "text/plain": [
       "          value  statistic      variable country  total_asked  \\\n",
       "0  I'm not sure         17  bus_cdt_text      AE          187   \n",
       "1            No        142  bus_cdt_text      AE          187   \n",
       "2           Yes         24  bus_cdt_text      AE          187   \n",
       "3           NaN          4  bus_cdt_text      AE          187   \n",
       "4  I'm not sure          5  bus_cdt_text      AL           75   \n",
       "\n",
       "                       who_was_asked  \n",
       "0  Owners/Managers of SMB Businesses  \n",
       "1  Owners/Managers of SMB Businesses  \n",
       "2  Owners/Managers of SMB Businesses  \n",
       "3  Owners/Managers of SMB Businesses  \n",
       "4  Owners/Managers of SMB Businesses  "
      ]
     },
     "execution_count": 15,
     "metadata": {},
     "output_type": "execute_result"
    }
   ],
   "source": [
    "df.head()"
   ]
  },
  {
   "cell_type": "markdown",
   "metadata": {},
   "source": [
    "First, the variable \"statistic\" is the number of responds in each category. Then, to calculate the percentages this columns will be divided by \"total_asked\" and multiplied by 100. \t "
   ]
  },
  {
   "cell_type": "code",
   "execution_count": 16,
   "metadata": {},
   "outputs": [],
   "source": [
    "df['statistic'] = round(df['statistic']/df['total_asked']*100,2)"
   ]
  },
  {
   "cell_type": "markdown",
   "metadata": {},
   "source": [
    "The names of the countries are in alpha-2 code, then, to obtain information we need to match it with the names of the correspondent countries. To do that we downloaded a csv with the apha-2 code and their correspondent countries from this list https://www.iban.com/country-codes. Let us open this list."
   ]
  },
  {
   "cell_type": "code",
   "execution_count": 17,
   "metadata": {},
   "outputs": [
    {
     "data": {
      "text/html": [
       "<div>\n",
       "<style scoped>\n",
       "    .dataframe tbody tr th:only-of-type {\n",
       "        vertical-align: middle;\n",
       "    }\n",
       "\n",
       "    .dataframe tbody tr th {\n",
       "        vertical-align: top;\n",
       "    }\n",
       "\n",
       "    .dataframe thead th {\n",
       "        text-align: right;\n",
       "    }\n",
       "</style>\n",
       "<table border=\"1\" class=\"dataframe\">\n",
       "  <thead>\n",
       "    <tr style=\"text-align: right;\">\n",
       "      <th></th>\n",
       "      <th>Country</th>\n",
       "      <th>Alpha-2 code</th>\n",
       "      <th>Alpha-3 code</th>\n",
       "      <th>Numeric</th>\n",
       "    </tr>\n",
       "  </thead>\n",
       "  <tbody>\n",
       "    <tr>\n",
       "      <th>0</th>\n",
       "      <td>Afghanistan</td>\n",
       "      <td>AF</td>\n",
       "      <td>AFG</td>\n",
       "      <td>4</td>\n",
       "    </tr>\n",
       "    <tr>\n",
       "      <th>1</th>\n",
       "      <td>Åland Islands</td>\n",
       "      <td>AX</td>\n",
       "      <td>ALA</td>\n",
       "      <td>248</td>\n",
       "    </tr>\n",
       "    <tr>\n",
       "      <th>2</th>\n",
       "      <td>Albania</td>\n",
       "      <td>AL</td>\n",
       "      <td>ALB</td>\n",
       "      <td>8</td>\n",
       "    </tr>\n",
       "    <tr>\n",
       "      <th>3</th>\n",
       "      <td>Algeria</td>\n",
       "      <td>DZ</td>\n",
       "      <td>DZA</td>\n",
       "      <td>12</td>\n",
       "    </tr>\n",
       "    <tr>\n",
       "      <th>4</th>\n",
       "      <td>American Samoa</td>\n",
       "      <td>AS</td>\n",
       "      <td>ASM</td>\n",
       "      <td>16</td>\n",
       "    </tr>\n",
       "  </tbody>\n",
       "</table>\n",
       "</div>"
      ],
      "text/plain": [
       "          Country Alpha-2 code Alpha-3 code  Numeric\n",
       "0     Afghanistan           AF          AFG        4\n",
       "1   Åland Islands           AX          ALA      248\n",
       "2         Albania           AL          ALB        8\n",
       "3         Algeria           DZ          DZA       12\n",
       "4  American Samoa           AS          ASM       16"
      ]
     },
     "execution_count": 17,
     "metadata": {},
     "output_type": "execute_result"
    }
   ],
   "source": [
    "df_codes = pd.read_csv('data/prepared/Country_Code.csv')\n",
    "df_codes.head()"
   ]
  },
  {
   "cell_type": "markdown",
   "metadata": {},
   "source": [
    "There are more variables here, we will take only the relevant ones, \"Country\" and \"Alpha-2 code\" "
   ]
  },
  {
   "cell_type": "code",
   "execution_count": 18,
   "metadata": {},
   "outputs": [],
   "source": [
    "df_codes = df_codes[[ 'Country','Alpha-2 code']]  "
   ]
  },
  {
   "cell_type": "markdown",
   "metadata": {},
   "source": [
    "Now , we can merge the two tables."
   ]
  },
  {
   "cell_type": "code",
   "execution_count": 19,
   "metadata": {},
   "outputs": [],
   "source": [
    "df = df_codes.merge(df,left_on='Alpha-2 code',right_on='country')"
   ]
  },
  {
   "cell_type": "markdown",
   "metadata": {},
   "source": [
    "We will take only the variables of interest: \"gen_opn_1_text\", \"gen_opn_2_text\" and \"own_fem_text\". This is a different process than before because the variables are listed in a column. First we will eliminate the columns that we will not use anymore as \"country\", \"who_was_asked\" and \"total_asked\", then we will take only the rows that coincide with the variables that we are interested in from column \"variable\" and rename these variables.  "
   ]
  },
  {
   "cell_type": "code",
   "execution_count": 20,
   "metadata": {},
   "outputs": [],
   "source": [
    "df.drop(columns=['country','who_was_asked','total_asked'],inplace=True)\n",
    "df = df[(df['variable'] == \"gen_opn_1_text\") | (df['variable'] == \"own_fem_text\")]"
   ]
  },
  {
   "cell_type": "code",
   "execution_count": 21,
   "metadata": {},
   "outputs": [],
   "source": [
    "df.replace(['gen_opn_1_text','own_fem_text'],['Self_perp_equal_rights','Owner_female'],inplace=True)"
   ]
  },
  {
   "cell_type": "markdown",
   "metadata": {},
   "source": [
    "Now, we can take a look of the values that the chosen variables takes. "
   ]
  },
  {
   "cell_type": "code",
   "execution_count": 22,
   "metadata": {},
   "outputs": [
    {
     "name": "stdout",
     "output_type": "stream",
     "text": [
      "['Agree' 'Disagree' 'Strongly agree' 'Strongly disagree' nan\n",
      " 'All owners are female' 'Exactly half' 'Less than half' 'More than half'\n",
      " 'None']\n"
     ]
    }
   ],
   "source": [
    "print(df['value'].unique())"
   ]
  },
  {
   "cell_type": "markdown",
   "metadata": {},
   "source": [
    "The value nan correspond to blanck spaces, with no information, there are several ways to deal with this values, in this case we will drop them."
   ]
  },
  {
   "cell_type": "code",
   "execution_count": 23,
   "metadata": {},
   "outputs": [],
   "source": [
    "df.dropna(inplace=True)\n",
    "df.reset_index(drop=True,inplace=True)"
   ]
  },
  {
   "cell_type": "code",
   "execution_count": 24,
   "metadata": {},
   "outputs": [
    {
     "data": {
      "text/html": [
       "<div>\n",
       "<style scoped>\n",
       "    .dataframe tbody tr th:only-of-type {\n",
       "        vertical-align: middle;\n",
       "    }\n",
       "\n",
       "    .dataframe tbody tr th {\n",
       "        vertical-align: top;\n",
       "    }\n",
       "\n",
       "    .dataframe thead th {\n",
       "        text-align: right;\n",
       "    }\n",
       "</style>\n",
       "<table border=\"1\" class=\"dataframe\">\n",
       "  <thead>\n",
       "    <tr style=\"text-align: right;\">\n",
       "      <th></th>\n",
       "      <th>Country</th>\n",
       "      <th>Alpha-2 code</th>\n",
       "      <th>value</th>\n",
       "      <th>statistic</th>\n",
       "      <th>variable</th>\n",
       "    </tr>\n",
       "  </thead>\n",
       "  <tbody>\n",
       "    <tr>\n",
       "      <th>0</th>\n",
       "      <td>Albania</td>\n",
       "      <td>AL</td>\n",
       "      <td>Agree</td>\n",
       "      <td>37.33</td>\n",
       "      <td>Self_perp_equal_rights</td>\n",
       "    </tr>\n",
       "    <tr>\n",
       "      <th>1</th>\n",
       "      <td>Albania</td>\n",
       "      <td>AL</td>\n",
       "      <td>Disagree</td>\n",
       "      <td>2.67</td>\n",
       "      <td>Self_perp_equal_rights</td>\n",
       "    </tr>\n",
       "    <tr>\n",
       "      <th>2</th>\n",
       "      <td>Albania</td>\n",
       "      <td>AL</td>\n",
       "      <td>Strongly agree</td>\n",
       "      <td>53.33</td>\n",
       "      <td>Self_perp_equal_rights</td>\n",
       "    </tr>\n",
       "    <tr>\n",
       "      <th>3</th>\n",
       "      <td>Albania</td>\n",
       "      <td>AL</td>\n",
       "      <td>Strongly disagree</td>\n",
       "      <td>2.67</td>\n",
       "      <td>Self_perp_equal_rights</td>\n",
       "    </tr>\n",
       "    <tr>\n",
       "      <th>4</th>\n",
       "      <td>Albania</td>\n",
       "      <td>AL</td>\n",
       "      <td>All owners are female</td>\n",
       "      <td>4.00</td>\n",
       "      <td>Owner_female</td>\n",
       "    </tr>\n",
       "    <tr>\n",
       "      <th>...</th>\n",
       "      <td>...</td>\n",
       "      <td>...</td>\n",
       "      <td>...</td>\n",
       "      <td>...</td>\n",
       "      <td>...</td>\n",
       "    </tr>\n",
       "    <tr>\n",
       "      <th>914</th>\n",
       "      <td>Zambia</td>\n",
       "      <td>ZM</td>\n",
       "      <td>All owners are female</td>\n",
       "      <td>0.74</td>\n",
       "      <td>Owner_female</td>\n",
       "    </tr>\n",
       "    <tr>\n",
       "      <th>915</th>\n",
       "      <td>Zambia</td>\n",
       "      <td>ZM</td>\n",
       "      <td>Exactly half</td>\n",
       "      <td>5.15</td>\n",
       "      <td>Owner_female</td>\n",
       "    </tr>\n",
       "    <tr>\n",
       "      <th>916</th>\n",
       "      <td>Zambia</td>\n",
       "      <td>ZM</td>\n",
       "      <td>Less than half</td>\n",
       "      <td>5.15</td>\n",
       "      <td>Owner_female</td>\n",
       "    </tr>\n",
       "    <tr>\n",
       "      <th>917</th>\n",
       "      <td>Zambia</td>\n",
       "      <td>ZM</td>\n",
       "      <td>More than half</td>\n",
       "      <td>2.21</td>\n",
       "      <td>Owner_female</td>\n",
       "    </tr>\n",
       "    <tr>\n",
       "      <th>918</th>\n",
       "      <td>Zambia</td>\n",
       "      <td>ZM</td>\n",
       "      <td>None</td>\n",
       "      <td>9.56</td>\n",
       "      <td>Owner_female</td>\n",
       "    </tr>\n",
       "  </tbody>\n",
       "</table>\n",
       "<p>919 rows × 5 columns</p>\n",
       "</div>"
      ],
      "text/plain": [
       "     Country Alpha-2 code                  value  statistic  \\\n",
       "0    Albania           AL                  Agree      37.33   \n",
       "1    Albania           AL               Disagree       2.67   \n",
       "2    Albania           AL         Strongly agree      53.33   \n",
       "3    Albania           AL      Strongly disagree       2.67   \n",
       "4    Albania           AL  All owners are female       4.00   \n",
       "..       ...          ...                    ...        ...   \n",
       "914   Zambia           ZM  All owners are female       0.74   \n",
       "915   Zambia           ZM           Exactly half       5.15   \n",
       "916   Zambia           ZM         Less than half       5.15   \n",
       "917   Zambia           ZM         More than half       2.21   \n",
       "918   Zambia           ZM                   None       9.56   \n",
       "\n",
       "                   variable  \n",
       "0    Self_perp_equal_rights  \n",
       "1    Self_perp_equal_rights  \n",
       "2    Self_perp_equal_rights  \n",
       "3    Self_perp_equal_rights  \n",
       "4              Owner_female  \n",
       "..                      ...  \n",
       "914            Owner_female  \n",
       "915            Owner_female  \n",
       "916            Owner_female  \n",
       "917            Owner_female  \n",
       "918            Owner_female  \n",
       "\n",
       "[919 rows x 5 columns]"
      ]
     },
     "execution_count": 24,
     "metadata": {},
     "output_type": "execute_result"
    }
   ],
   "source": [
    "df"
   ]
  },
  {
   "cell_type": "markdown",
   "metadata": {},
   "source": [
    "The table in this form is too difficult to read. We will create new variables that combine the variables and their values, to obtain an structure similar to the Survey on Gender Equality."
   ]
  },
  {
   "cell_type": "code",
   "execution_count": 25,
   "metadata": {},
   "outputs": [
    {
     "data": {
      "text/html": [
       "<div>\n",
       "<style scoped>\n",
       "    .dataframe tbody tr th:only-of-type {\n",
       "        vertical-align: middle;\n",
       "    }\n",
       "\n",
       "    .dataframe tbody tr th {\n",
       "        vertical-align: top;\n",
       "    }\n",
       "\n",
       "    .dataframe thead th {\n",
       "        text-align: right;\n",
       "    }\n",
       "</style>\n",
       "<table border=\"1\" class=\"dataframe\">\n",
       "  <thead>\n",
       "    <tr style=\"text-align: right;\">\n",
       "      <th></th>\n",
       "      <th>Self_perp_equal_rights_Agree</th>\n",
       "      <th>Self_perp_equal_rights_Disagree</th>\n",
       "      <th>Self_perp_equal_rights_Strongly agree</th>\n",
       "      <th>Self_perp_equal_rights_Strongly disagree</th>\n",
       "      <th>Owner_female_All owners are female</th>\n",
       "      <th>Owner_female_Exactly half</th>\n",
       "      <th>Owner_female_Less than half</th>\n",
       "      <th>Owner_female_More than half</th>\n",
       "      <th>Owner_female_None</th>\n",
       "    </tr>\n",
       "    <tr>\n",
       "      <th>Country</th>\n",
       "      <th></th>\n",
       "      <th></th>\n",
       "      <th></th>\n",
       "      <th></th>\n",
       "      <th></th>\n",
       "      <th></th>\n",
       "      <th></th>\n",
       "      <th></th>\n",
       "      <th></th>\n",
       "    </tr>\n",
       "  </thead>\n",
       "  <tbody>\n",
       "    <tr>\n",
       "      <th>Albania</th>\n",
       "      <td>37.33</td>\n",
       "      <td>2.67</td>\n",
       "      <td>53.33</td>\n",
       "      <td>2.67</td>\n",
       "      <td>4.00</td>\n",
       "      <td>6.67</td>\n",
       "      <td>1.33</td>\n",
       "      <td>2.67</td>\n",
       "      <td>8.00</td>\n",
       "    </tr>\n",
       "    <tr>\n",
       "      <th>Algeria</th>\n",
       "      <td>28.57</td>\n",
       "      <td>23.43</td>\n",
       "      <td>20.57</td>\n",
       "      <td>12.00</td>\n",
       "      <td>1.71</td>\n",
       "      <td>2.29</td>\n",
       "      <td>4.57</td>\n",
       "      <td>0.00</td>\n",
       "      <td>17.14</td>\n",
       "    </tr>\n",
       "    <tr>\n",
       "      <th>Angola</th>\n",
       "      <td>25.00</td>\n",
       "      <td>7.14</td>\n",
       "      <td>56.63</td>\n",
       "      <td>3.06</td>\n",
       "      <td>1.53</td>\n",
       "      <td>3.57</td>\n",
       "      <td>6.12</td>\n",
       "      <td>1.02</td>\n",
       "      <td>13.78</td>\n",
       "    </tr>\n",
       "    <tr>\n",
       "      <th>Argentina</th>\n",
       "      <td>17.50</td>\n",
       "      <td>0.42</td>\n",
       "      <td>63.75</td>\n",
       "      <td>5.00</td>\n",
       "      <td>0.83</td>\n",
       "      <td>8.75</td>\n",
       "      <td>2.50</td>\n",
       "      <td>2.92</td>\n",
       "      <td>7.08</td>\n",
       "    </tr>\n",
       "    <tr>\n",
       "      <th>Australia</th>\n",
       "      <td>26.24</td>\n",
       "      <td>2.97</td>\n",
       "      <td>58.42</td>\n",
       "      <td>1.98</td>\n",
       "      <td>3.47</td>\n",
       "      <td>14.85</td>\n",
       "      <td>0.99</td>\n",
       "      <td>0.99</td>\n",
       "      <td>5.94</td>\n",
       "    </tr>\n",
       "    <tr>\n",
       "      <th>...</th>\n",
       "      <td>...</td>\n",
       "      <td>...</td>\n",
       "      <td>...</td>\n",
       "      <td>...</td>\n",
       "      <td>...</td>\n",
       "      <td>...</td>\n",
       "      <td>...</td>\n",
       "      <td>...</td>\n",
       "      <td>...</td>\n",
       "    </tr>\n",
       "    <tr>\n",
       "      <th>United Kingdom of Great Britain and Northern Ireland (the)</th>\n",
       "      <td>24.37</td>\n",
       "      <td>3.05</td>\n",
       "      <td>56.35</td>\n",
       "      <td>3.55</td>\n",
       "      <td>1.52</td>\n",
       "      <td>10.15</td>\n",
       "      <td>3.05</td>\n",
       "      <td>2.03</td>\n",
       "      <td>8.12</td>\n",
       "    </tr>\n",
       "    <tr>\n",
       "      <th>United States of America (the)</th>\n",
       "      <td>28.26</td>\n",
       "      <td>1.09</td>\n",
       "      <td>52.90</td>\n",
       "      <td>4.35</td>\n",
       "      <td>1.45</td>\n",
       "      <td>13.77</td>\n",
       "      <td>2.54</td>\n",
       "      <td>1.45</td>\n",
       "      <td>3.62</td>\n",
       "    </tr>\n",
       "    <tr>\n",
       "      <th>Uruguay</th>\n",
       "      <td>19.23</td>\n",
       "      <td>0.00</td>\n",
       "      <td>63.08</td>\n",
       "      <td>6.15</td>\n",
       "      <td>2.31</td>\n",
       "      <td>16.15</td>\n",
       "      <td>2.31</td>\n",
       "      <td>0.77</td>\n",
       "      <td>4.62</td>\n",
       "    </tr>\n",
       "    <tr>\n",
       "      <th>Viet Nam</th>\n",
       "      <td>20.25</td>\n",
       "      <td>3.80</td>\n",
       "      <td>50.00</td>\n",
       "      <td>11.39</td>\n",
       "      <td>1.27</td>\n",
       "      <td>3.16</td>\n",
       "      <td>5.06</td>\n",
       "      <td>2.53</td>\n",
       "      <td>3.16</td>\n",
       "    </tr>\n",
       "    <tr>\n",
       "      <th>Zambia</th>\n",
       "      <td>36.76</td>\n",
       "      <td>7.35</td>\n",
       "      <td>39.71</td>\n",
       "      <td>3.68</td>\n",
       "      <td>0.74</td>\n",
       "      <td>5.15</td>\n",
       "      <td>5.15</td>\n",
       "      <td>2.21</td>\n",
       "      <td>9.56</td>\n",
       "    </tr>\n",
       "  </tbody>\n",
       "</table>\n",
       "<p>106 rows × 9 columns</p>\n",
       "</div>"
      ],
      "text/plain": [
       "                                                    Self_perp_equal_rights_Agree  \\\n",
       "Country                                                                            \n",
       "Albania                                                                    37.33   \n",
       "Algeria                                                                    28.57   \n",
       "Angola                                                                     25.00   \n",
       "Argentina                                                                  17.50   \n",
       "Australia                                                                  26.24   \n",
       "...                                                                          ...   \n",
       "United Kingdom of Great Britain and Northern Ir...                         24.37   \n",
       "United States of America (the)                                             28.26   \n",
       "Uruguay                                                                    19.23   \n",
       "Viet Nam                                                                   20.25   \n",
       "Zambia                                                                     36.76   \n",
       "\n",
       "                                                    Self_perp_equal_rights_Disagree  \\\n",
       "Country                                                                               \n",
       "Albania                                                                        2.67   \n",
       "Algeria                                                                       23.43   \n",
       "Angola                                                                         7.14   \n",
       "Argentina                                                                      0.42   \n",
       "Australia                                                                      2.97   \n",
       "...                                                                             ...   \n",
       "United Kingdom of Great Britain and Northern Ir...                             3.05   \n",
       "United States of America (the)                                                 1.09   \n",
       "Uruguay                                                                        0.00   \n",
       "Viet Nam                                                                       3.80   \n",
       "Zambia                                                                         7.35   \n",
       "\n",
       "                                                    Self_perp_equal_rights_Strongly agree  \\\n",
       "Country                                                                                     \n",
       "Albania                                                                             53.33   \n",
       "Algeria                                                                             20.57   \n",
       "Angola                                                                              56.63   \n",
       "Argentina                                                                           63.75   \n",
       "Australia                                                                           58.42   \n",
       "...                                                                                   ...   \n",
       "United Kingdom of Great Britain and Northern Ir...                                  56.35   \n",
       "United States of America (the)                                                      52.90   \n",
       "Uruguay                                                                             63.08   \n",
       "Viet Nam                                                                            50.00   \n",
       "Zambia                                                                              39.71   \n",
       "\n",
       "                                                    Self_perp_equal_rights_Strongly disagree  \\\n",
       "Country                                                                                        \n",
       "Albania                                                                                 2.67   \n",
       "Algeria                                                                                12.00   \n",
       "Angola                                                                                  3.06   \n",
       "Argentina                                                                               5.00   \n",
       "Australia                                                                               1.98   \n",
       "...                                                                                      ...   \n",
       "United Kingdom of Great Britain and Northern Ir...                                      3.55   \n",
       "United States of America (the)                                                          4.35   \n",
       "Uruguay                                                                                 6.15   \n",
       "Viet Nam                                                                               11.39   \n",
       "Zambia                                                                                  3.68   \n",
       "\n",
       "                                                    Owner_female_All owners are female  \\\n",
       "Country                                                                                  \n",
       "Albania                                                                           4.00   \n",
       "Algeria                                                                           1.71   \n",
       "Angola                                                                            1.53   \n",
       "Argentina                                                                         0.83   \n",
       "Australia                                                                         3.47   \n",
       "...                                                                                ...   \n",
       "United Kingdom of Great Britain and Northern Ir...                                1.52   \n",
       "United States of America (the)                                                    1.45   \n",
       "Uruguay                                                                           2.31   \n",
       "Viet Nam                                                                          1.27   \n",
       "Zambia                                                                            0.74   \n",
       "\n",
       "                                                    Owner_female_Exactly half  \\\n",
       "Country                                                                         \n",
       "Albania                                                                  6.67   \n",
       "Algeria                                                                  2.29   \n",
       "Angola                                                                   3.57   \n",
       "Argentina                                                                8.75   \n",
       "Australia                                                               14.85   \n",
       "...                                                                       ...   \n",
       "United Kingdom of Great Britain and Northern Ir...                      10.15   \n",
       "United States of America (the)                                          13.77   \n",
       "Uruguay                                                                 16.15   \n",
       "Viet Nam                                                                 3.16   \n",
       "Zambia                                                                   5.15   \n",
       "\n",
       "                                                    Owner_female_Less than half  \\\n",
       "Country                                                                           \n",
       "Albania                                                                    1.33   \n",
       "Algeria                                                                    4.57   \n",
       "Angola                                                                     6.12   \n",
       "Argentina                                                                  2.50   \n",
       "Australia                                                                  0.99   \n",
       "...                                                                         ...   \n",
       "United Kingdom of Great Britain and Northern Ir...                         3.05   \n",
       "United States of America (the)                                             2.54   \n",
       "Uruguay                                                                    2.31   \n",
       "Viet Nam                                                                   5.06   \n",
       "Zambia                                                                     5.15   \n",
       "\n",
       "                                                    Owner_female_More than half  \\\n",
       "Country                                                                           \n",
       "Albania                                                                    2.67   \n",
       "Algeria                                                                    0.00   \n",
       "Angola                                                                     1.02   \n",
       "Argentina                                                                  2.92   \n",
       "Australia                                                                  0.99   \n",
       "...                                                                         ...   \n",
       "United Kingdom of Great Britain and Northern Ir...                         2.03   \n",
       "United States of America (the)                                             1.45   \n",
       "Uruguay                                                                    0.77   \n",
       "Viet Nam                                                                   2.53   \n",
       "Zambia                                                                     2.21   \n",
       "\n",
       "                                                    Owner_female_None  \n",
       "Country                                                                \n",
       "Albania                                                          8.00  \n",
       "Algeria                                                         17.14  \n",
       "Angola                                                          13.78  \n",
       "Argentina                                                        7.08  \n",
       "Australia                                                        5.94  \n",
       "...                                                               ...  \n",
       "United Kingdom of Great Britain and Northern Ir...               8.12  \n",
       "United States of America (the)                                   3.62  \n",
       "Uruguay                                                          4.62  \n",
       "Viet Nam                                                         3.16  \n",
       "Zambia                                                           9.56  \n",
       "\n",
       "[106 rows x 9 columns]"
      ]
     },
     "execution_count": 25,
     "metadata": {},
     "output_type": "execute_result"
    }
   ],
   "source": [
    "for var in df['variable'].unique():\n",
    "    for val in df[df['variable']==var]['value'].unique():\n",
    "        df[var+'_'+val] = [df.loc[i,'statistic'] if (df.loc[i,'variable']==var) \n",
    "                           & (df.loc[i,'value']==val) else np.nan for i in df.index]\n",
    "df = df.groupby(['Country']).sum().drop(columns=['statistic'])\n",
    "df"
   ]
  },
  {
   "cell_type": "markdown",
   "metadata": {},
   "source": [
    "These are many variables and we want a simple analysis, then we will group them in only four categories. The concernings of equal rights will be grouped only in \"agree\" (containing \"agree\" and \"strongly agree\") and \"disagree\" (containing \"disagree\" and \"strongly disagree\"), and \"Female_owner_Half_or_more\" which is the percentage of respondents that said that half or more business are owned by a female.  "
   ]
  },
  {
   "cell_type": "code",
   "execution_count": 26,
   "metadata": {},
   "outputs": [
    {
     "data": {
      "text/html": [
       "<div>\n",
       "<style scoped>\n",
       "    .dataframe tbody tr th:only-of-type {\n",
       "        vertical-align: middle;\n",
       "    }\n",
       "\n",
       "    .dataframe tbody tr th {\n",
       "        vertical-align: top;\n",
       "    }\n",
       "\n",
       "    .dataframe thead th {\n",
       "        text-align: right;\n",
       "    }\n",
       "</style>\n",
       "<table border=\"1\" class=\"dataframe\">\n",
       "  <thead>\n",
       "    <tr style=\"text-align: right;\">\n",
       "      <th></th>\n",
       "      <th>Equal_rights_agree</th>\n",
       "      <th>Equal_rights_disagree</th>\n",
       "      <th>Female_owner_Half_or_more</th>\n",
       "      <th>Female_owner_less_than_half</th>\n",
       "    </tr>\n",
       "    <tr>\n",
       "      <th>Country</th>\n",
       "      <th></th>\n",
       "      <th></th>\n",
       "      <th></th>\n",
       "      <th></th>\n",
       "    </tr>\n",
       "  </thead>\n",
       "  <tbody>\n",
       "    <tr>\n",
       "      <th>Albania</th>\n",
       "      <td>90.66</td>\n",
       "      <td>5.34</td>\n",
       "      <td>13.34</td>\n",
       "      <td>9.33</td>\n",
       "    </tr>\n",
       "    <tr>\n",
       "      <th>Algeria</th>\n",
       "      <td>49.14</td>\n",
       "      <td>35.43</td>\n",
       "      <td>4.00</td>\n",
       "      <td>21.71</td>\n",
       "    </tr>\n",
       "    <tr>\n",
       "      <th>Angola</th>\n",
       "      <td>81.63</td>\n",
       "      <td>10.20</td>\n",
       "      <td>6.12</td>\n",
       "      <td>19.90</td>\n",
       "    </tr>\n",
       "    <tr>\n",
       "      <th>Argentina</th>\n",
       "      <td>81.25</td>\n",
       "      <td>5.42</td>\n",
       "      <td>12.50</td>\n",
       "      <td>9.58</td>\n",
       "    </tr>\n",
       "    <tr>\n",
       "      <th>Australia</th>\n",
       "      <td>84.66</td>\n",
       "      <td>4.95</td>\n",
       "      <td>19.31</td>\n",
       "      <td>6.93</td>\n",
       "    </tr>\n",
       "    <tr>\n",
       "      <th>...</th>\n",
       "      <td>...</td>\n",
       "      <td>...</td>\n",
       "      <td>...</td>\n",
       "      <td>...</td>\n",
       "    </tr>\n",
       "    <tr>\n",
       "      <th>United Kingdom of Great Britain and Northern Ireland (the)</th>\n",
       "      <td>80.72</td>\n",
       "      <td>6.60</td>\n",
       "      <td>13.70</td>\n",
       "      <td>11.17</td>\n",
       "    </tr>\n",
       "    <tr>\n",
       "      <th>United States of America (the)</th>\n",
       "      <td>81.16</td>\n",
       "      <td>5.44</td>\n",
       "      <td>16.67</td>\n",
       "      <td>6.16</td>\n",
       "    </tr>\n",
       "    <tr>\n",
       "      <th>Uruguay</th>\n",
       "      <td>82.31</td>\n",
       "      <td>6.15</td>\n",
       "      <td>19.23</td>\n",
       "      <td>6.93</td>\n",
       "    </tr>\n",
       "    <tr>\n",
       "      <th>Viet Nam</th>\n",
       "      <td>70.25</td>\n",
       "      <td>15.19</td>\n",
       "      <td>6.96</td>\n",
       "      <td>8.22</td>\n",
       "    </tr>\n",
       "    <tr>\n",
       "      <th>Zambia</th>\n",
       "      <td>76.47</td>\n",
       "      <td>11.03</td>\n",
       "      <td>8.10</td>\n",
       "      <td>14.71</td>\n",
       "    </tr>\n",
       "  </tbody>\n",
       "</table>\n",
       "<p>106 rows × 4 columns</p>\n",
       "</div>"
      ],
      "text/plain": [
       "                                                    Equal_rights_agree  \\\n",
       "Country                                                                  \n",
       "Albania                                                          90.66   \n",
       "Algeria                                                          49.14   \n",
       "Angola                                                           81.63   \n",
       "Argentina                                                        81.25   \n",
       "Australia                                                        84.66   \n",
       "...                                                                ...   \n",
       "United Kingdom of Great Britain and Northern Ir...               80.72   \n",
       "United States of America (the)                                   81.16   \n",
       "Uruguay                                                          82.31   \n",
       "Viet Nam                                                         70.25   \n",
       "Zambia                                                           76.47   \n",
       "\n",
       "                                                    Equal_rights_disagree  \\\n",
       "Country                                                                     \n",
       "Albania                                                              5.34   \n",
       "Algeria                                                             35.43   \n",
       "Angola                                                              10.20   \n",
       "Argentina                                                            5.42   \n",
       "Australia                                                            4.95   \n",
       "...                                                                   ...   \n",
       "United Kingdom of Great Britain and Northern Ir...                   6.60   \n",
       "United States of America (the)                                       5.44   \n",
       "Uruguay                                                              6.15   \n",
       "Viet Nam                                                            15.19   \n",
       "Zambia                                                              11.03   \n",
       "\n",
       "                                                    Female_owner_Half_or_more  \\\n",
       "Country                                                                         \n",
       "Albania                                                                 13.34   \n",
       "Algeria                                                                  4.00   \n",
       "Angola                                                                   6.12   \n",
       "Argentina                                                               12.50   \n",
       "Australia                                                               19.31   \n",
       "...                                                                       ...   \n",
       "United Kingdom of Great Britain and Northern Ir...                      13.70   \n",
       "United States of America (the)                                          16.67   \n",
       "Uruguay                                                                 19.23   \n",
       "Viet Nam                                                                 6.96   \n",
       "Zambia                                                                   8.10   \n",
       "\n",
       "                                                    Female_owner_less_than_half  \n",
       "Country                                                                          \n",
       "Albania                                                                    9.33  \n",
       "Algeria                                                                   21.71  \n",
       "Angola                                                                    19.90  \n",
       "Argentina                                                                  9.58  \n",
       "Australia                                                                  6.93  \n",
       "...                                                                         ...  \n",
       "United Kingdom of Great Britain and Northern Ir...                        11.17  \n",
       "United States of America (the)                                             6.16  \n",
       "Uruguay                                                                    6.93  \n",
       "Viet Nam                                                                   8.22  \n",
       "Zambia                                                                    14.71  \n",
       "\n",
       "[106 rows x 4 columns]"
      ]
     },
     "execution_count": 26,
     "metadata": {},
     "output_type": "execute_result"
    }
   ],
   "source": [
    "df['Equal_rights_agree'] = df['Self_perp_equal_rights_Agree'] + df['Self_perp_equal_rights_Strongly agree']\n",
    "df['Equal_rights_disagree'] = df['Self_perp_equal_rights_Disagree'] + df[\n",
    "                                'Self_perp_equal_rights_Strongly disagree']\n",
    "df['Female_owner_Half_or_more'] = df['Owner_female_All owners are female'] + df[\n",
    "                                'Owner_female_Exactly half'] + df['Owner_female_More than half']\n",
    "df['Female_owner_less_than_half'] = df['Owner_female_Less than half'] + df['Owner_female_None']\n",
    "df = df[['Equal_rights_agree','Equal_rights_disagree','Female_owner_Half_or_more',\n",
    "         'Female_owner_less_than_half']]\n",
    "df"
   ]
  },
  {
   "cell_type": "markdown",
   "metadata": {},
   "source": [
    "Finally we can see the relation between variables in the following scatter and regression plot."
   ]
  },
  {
   "cell_type": "code",
   "execution_count": 27,
   "metadata": {},
   "outputs": [
    {
     "data": {
      "image/png": "[encoded data removed]",
      "text/plain": [
       "<Figure size 648x360 with 1 Axes>"
      ]
     },
     "metadata": {
      "needs_background": "light"
     },
     "output_type": "display_data"
    }
   ],
   "source": [
    "figure, axes = plt.subplots(1,1,figsize=(9,5))\n",
    "sns.regplot(x=df['Equal_rights_agree'],y=df['Female_owner_Half_or_more']).set(\n",
    "    title='Equal rights perception vs proportion of female owner of business',xlabel='',ylabel='')\n",
    "plt.show()"
   ]
  },
  {
   "cell_type": "markdown",
   "metadata": {},
   "source": [
    "Now, we can see how to use more than one survey at time. We can merge these databases using the countries as the fix variable."
   ]
  },
  {
   "cell_type": "code",
   "execution_count": 28,
   "metadata": {},
   "outputs": [
    {
     "data": {
      "text/html": [
       "<div>\n",
       "<style scoped>\n",
       "    .dataframe tbody tr th:only-of-type {\n",
       "        vertical-align: middle;\n",
       "    }\n",
       "\n",
       "    .dataframe tbody tr th {\n",
       "        vertical-align: top;\n",
       "    }\n",
       "\n",
       "    .dataframe thead th {\n",
       "        text-align: right;\n",
       "    }\n",
       "</style>\n",
       "<table border=\"1\" class=\"dataframe\">\n",
       "  <thead>\n",
       "    <tr style=\"text-align: right;\">\n",
       "      <th></th>\n",
       "      <th>Country</th>\n",
       "      <th>Gender</th>\n",
       "      <th>Internet_Penetration</th>\n",
       "      <th>Equal_Rights</th>\n",
       "      <th>Access_Money</th>\n",
       "      <th>Equal_rights_agree</th>\n",
       "      <th>Equal_rights_disagree</th>\n",
       "      <th>Female_owner_Half_or_more</th>\n",
       "      <th>Female_owner_less_than_half</th>\n",
       "    </tr>\n",
       "  </thead>\n",
       "  <tbody>\n",
       "    <tr>\n",
       "      <th>0</th>\n",
       "      <td>Canada</td>\n",
       "      <td>Female</td>\n",
       "      <td>95.0</td>\n",
       "      <td>93</td>\n",
       "      <td>75</td>\n",
       "      <td>85.97</td>\n",
       "      <td>4.07</td>\n",
       "      <td>19.01</td>\n",
       "      <td>9.50</td>\n",
       "    </tr>\n",
       "    <tr>\n",
       "      <th>3</th>\n",
       "      <td>Australia</td>\n",
       "      <td>Female</td>\n",
       "      <td>70.0</td>\n",
       "      <td>92</td>\n",
       "      <td>78</td>\n",
       "      <td>84.66</td>\n",
       "      <td>4.95</td>\n",
       "      <td>19.31</td>\n",
       "      <td>6.93</td>\n",
       "    </tr>\n",
       "    <tr>\n",
       "      <th>6</th>\n",
       "      <td>Cambodia</td>\n",
       "      <td>Female</td>\n",
       "      <td>40.0</td>\n",
       "      <td>94</td>\n",
       "      <td>36</td>\n",
       "      <td>80.00</td>\n",
       "      <td>2.43</td>\n",
       "      <td>14.55</td>\n",
       "      <td>17.57</td>\n",
       "    </tr>\n",
       "    <tr>\n",
       "      <th>9</th>\n",
       "      <td>Indonesia</td>\n",
       "      <td>Female</td>\n",
       "      <td>35.0</td>\n",
       "      <td>84</td>\n",
       "      <td>19</td>\n",
       "      <td>82.29</td>\n",
       "      <td>8.14</td>\n",
       "      <td>6.23</td>\n",
       "      <td>15.31</td>\n",
       "    </tr>\n",
       "    <tr>\n",
       "      <th>12</th>\n",
       "      <td>Japan</td>\n",
       "      <td>Female</td>\n",
       "      <td>80.0</td>\n",
       "      <td>84</td>\n",
       "      <td>50</td>\n",
       "      <td>72.02</td>\n",
       "      <td>17.78</td>\n",
       "      <td>7.29</td>\n",
       "      <td>7.58</td>\n",
       "    </tr>\n",
       "    <tr>\n",
       "      <th>...</th>\n",
       "      <td>...</td>\n",
       "      <td>...</td>\n",
       "      <td>...</td>\n",
       "      <td>...</td>\n",
       "      <td>...</td>\n",
       "      <td>...</td>\n",
       "      <td>...</td>\n",
       "      <td>...</td>\n",
       "      <td>...</td>\n",
       "    </tr>\n",
       "    <tr>\n",
       "      <th>230</th>\n",
       "      <td>Nigeria</td>\n",
       "      <td>Female</td>\n",
       "      <td>5.0</td>\n",
       "      <td>85</td>\n",
       "      <td>21</td>\n",
       "      <td>74.11</td>\n",
       "      <td>13.94</td>\n",
       "      <td>4.18</td>\n",
       "      <td>12.16</td>\n",
       "    </tr>\n",
       "    <tr>\n",
       "      <th>233</th>\n",
       "      <td>Senegal</td>\n",
       "      <td>Female</td>\n",
       "      <td>45.0</td>\n",
       "      <td>84</td>\n",
       "      <td>33</td>\n",
       "      <td>73.61</td>\n",
       "      <td>11.12</td>\n",
       "      <td>5.56</td>\n",
       "      <td>13.89</td>\n",
       "    </tr>\n",
       "    <tr>\n",
       "      <th>236</th>\n",
       "      <td>South Africa</td>\n",
       "      <td>Female</td>\n",
       "      <td>50.0</td>\n",
       "      <td>88</td>\n",
       "      <td>19</td>\n",
       "      <td>77.93</td>\n",
       "      <td>9.01</td>\n",
       "      <td>9.91</td>\n",
       "      <td>10.81</td>\n",
       "    </tr>\n",
       "    <tr>\n",
       "      <th>239</th>\n",
       "      <td>Uganda</td>\n",
       "      <td>Female</td>\n",
       "      <td>15.0</td>\n",
       "      <td>87</td>\n",
       "      <td>26</td>\n",
       "      <td>77.84</td>\n",
       "      <td>12.66</td>\n",
       "      <td>6.33</td>\n",
       "      <td>22.78</td>\n",
       "    </tr>\n",
       "    <tr>\n",
       "      <th>242</th>\n",
       "      <td>Zambia</td>\n",
       "      <td>Female</td>\n",
       "      <td>15.0</td>\n",
       "      <td>90</td>\n",
       "      <td>25</td>\n",
       "      <td>76.47</td>\n",
       "      <td>11.03</td>\n",
       "      <td>8.10</td>\n",
       "      <td>14.71</td>\n",
       "    </tr>\n",
       "  </tbody>\n",
       "</table>\n",
       "<p>82 rows × 9 columns</p>\n",
       "</div>"
      ],
      "text/plain": [
       "          Country  Gender  Internet_Penetration  Equal_Rights  Access_Money  \\\n",
       "0          Canada  Female                  95.0            93            75   \n",
       "3       Australia  Female                  70.0            92            78   \n",
       "6        Cambodia  Female                  40.0            94            36   \n",
       "9       Indonesia  Female                  35.0            84            19   \n",
       "12          Japan  Female                  80.0            84            50   \n",
       "..            ...     ...                   ...           ...           ...   \n",
       "230       Nigeria  Female                   5.0            85            21   \n",
       "233       Senegal  Female                  45.0            84            33   \n",
       "236  South Africa  Female                  50.0            88            19   \n",
       "239        Uganda  Female                  15.0            87            26   \n",
       "242        Zambia  Female                  15.0            90            25   \n",
       "\n",
       "     Equal_rights_agree  Equal_rights_disagree  Female_owner_Half_or_more  \\\n",
       "0                 85.97                   4.07                      19.01   \n",
       "3                 84.66                   4.95                      19.31   \n",
       "6                 80.00                   2.43                      14.55   \n",
       "9                 82.29                   8.14                       6.23   \n",
       "12                72.02                  17.78                       7.29   \n",
       "..                  ...                    ...                        ...   \n",
       "230               74.11                  13.94                       4.18   \n",
       "233               73.61                  11.12                       5.56   \n",
       "236               77.93                   9.01                       9.91   \n",
       "239               77.84                  12.66                       6.33   \n",
       "242               76.47                  11.03                       8.10   \n",
       "\n",
       "     Female_owner_less_than_half  \n",
       "0                           9.50  \n",
       "3                           6.93  \n",
       "6                          17.57  \n",
       "9                          15.31  \n",
       "12                          7.58  \n",
       "..                           ...  \n",
       "230                        12.16  \n",
       "233                        13.89  \n",
       "236                        10.81  \n",
       "239                        22.78  \n",
       "242                        14.71  \n",
       "\n",
       "[82 rows x 9 columns]"
      ]
     },
     "execution_count": 28,
     "metadata": {},
     "output_type": "execute_result"
    }
   ],
   "source": [
    "df_business = df.reset_index()\n",
    "df = df_gender.merge(df_business,on='Country')\n",
    "df_female = df[df['Gender']=='Female'] \n",
    "df_female"
   ]
  },
  {
   "cell_type": "markdown",
   "metadata": {},
   "source": [
    "Last, let's see the relation between the variables \"Access_Money\" and \"Female_owner_Half_or_more\" and \"Internet_Penetration\" and \"Female_owner_Half_or_more\". Remember that they were originally in different surveys.  "
   ]
  },
  {
   "cell_type": "code",
   "execution_count": 29,
   "metadata": {},
   "outputs": [
    {
     "data": {
      "image/png": "[encoded data removed]",
      "text/plain": [
       "<Figure size 1080x864 with 2 Axes>"
      ]
     },
     "metadata": {
      "needs_background": "light"
     },
     "output_type": "display_data"
    }
   ],
   "source": [
    "figure, axes = plt.subplots(2,1,figsize=(15,12))\n",
    "sns.regplot(x=df_female['Access_Money'],y=df_female['Female_owner_Half_or_more'],ax=axes[0]).set(\n",
    "    title='Self access of money vs Female_owner_Half_or_more',xlabel='',ylabel='')\n",
    "sns.regplot(x=df_female['Internet_Penetration'],y=df_female['Female_owner_Half_or_more'],ax=axes[1]).set(\n",
    "    title='Internet penetration vs Female_owner_Half_or_more',xlabel='',ylabel='')\n",
    "\n",
    "plt.show()"
   ]
  },
  {
   "cell_type": "markdown",
   "metadata": {},
   "source": [
    "## Conclusions"
   ]
  },
  {
   "cell_type": "markdown",
   "metadata": {},
   "source": [
    "#### From the survey on gender equality we can conclude that the internet penetration has a positive correlation with the perception of equality and with the full access of females to the household funds. Also the perception of equality in rights have a positive relation with the access to funds. \n",
    "#### When we look at the survey about the future of business we see that the percentage of persons who think that women and men should have equal rights is positively correlated with the percentage of persons that said that the proportion of business owned by females are the half or more.  \n",
    "#### We were able to merge the two databases and compare variables from both of them, and see that there is a positive relation between full access to household funds, and internet penetration with more female owners of business. \n",
    "#### This is a very simple example of the information that can be extracted from these two surveys, using data analysis techniques and computational tools. This kind of information evidences the importance of having access to good, organized and meaningful data. "
   ]
  },
  {
   "cell_type": "code",
   "execution_count": null,
   "metadata": {},
   "outputs": [],
   "source": []
  }
 ],
 "metadata": {
  "kernelspec": {
   "display_name": "Python 3",
   "language": "python",
   "name": "python3"
  },
  "language_info": {
   "codemirror_mode": {
    "name": "ipython",
    "version": 3
   },
   "file_extension": ".py",
   "mimetype": "text/x-python",
   "name": "python",
   "nbconvert_exporter": "python",
   "pygments_lexer": "ipython3",
   "version": "3.8.5"
  }
 },
 "nbformat": 4,
 "nbformat_minor": 4
}
